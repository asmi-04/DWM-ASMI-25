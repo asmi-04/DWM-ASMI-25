{
  "nbformat": 4,
  "nbformat_minor": 0,
  "metadata": {
    "colab": {
      "provenance": []
    },
    "kernelspec": {
      "name": "python3",
      "display_name": "Python 3"
    },
    "language_info": {
      "name": "python"
    }
  },
  "cells": [
    {
      "cell_type": "markdown",
      "source": [
        "NAME : ASMI JAIN\n",
        "\n",
        "DIV : TY-3\n",
        "\n",
        "ROLL NO : 25\n",
        "\n",
        "BATCH : B\n",
        "\n",
        "SUBJECT : DWM\n",
        "\n",
        "EXPERIMENT : 4\n"
      ],
      "metadata": {
        "id": "A7dTm6tKrvZg"
      }
    },
    {
      "cell_type": "markdown",
      "source": [
        "**AIM** : Implementation of Clustering Algorithm (K-means / Agglomerative) using Python"
      ],
      "metadata": {
        "id": "RAI3U4_2r2Yn"
      }
    },
    {
      "cell_type": "markdown",
      "source": [
        "**INTRODUCTION** : Clustering is an unsupervised learning technique used to group similar data points.\n",
        "\n",
        "K-means: A centroid-based clustering algorithm that partitions data into K clusters by minimizing intra-cluster variance.\n",
        "\n",
        "Agglomerative Clustering: A hierarchical clustering approach that merges or splits clusters based on a linkage criterion."
      ],
      "metadata": {
        "id": "JY89_gKIsFO_"
      }
    },
    {
      "cell_type": "markdown",
      "source": [
        "**PROCEDURE:**\n",
        "1. Import necessary libraries.\n",
        "2. Load and preprocess the dataset.\n",
        "3. Apply K-means clustering.\n",
        "4. Apply Agglomerative clustering.\n",
        "5. Visualize and analyze the results.\n",
        "6. Evaluate clustering performance using metrics like silhouette score."
      ],
      "metadata": {
        "id": "uklMrzwgsgT7"
      }
    },
    {
      "cell_type": "code",
      "source": [
        "import numpy as np\n",
        "\n",
        "def kmean(data):\n",
        "    n = len(data)\n",
        "    if n < 2 :\n",
        "        print (\"Not enough data points for k-means clustering.\")\n",
        "        return\n",
        "\n",
        "    m1 = data[0]\n",
        "    m2 = data[1]\n",
        "\n",
        "    while True:\n",
        "        c1 = []\n",
        "        c2 = []\n",
        "        for i in data:\n",
        "            if abs(m1 - i) <= abs(m2 - i):\n",
        "                c1.append(i)\n",
        "            else:\n",
        "                c2.append(i)\n",
        "\n",
        "        new_m1 = np.mean(c1) if c1 else m1  # Handle empty clusters\n",
        "        new_m2 = np.mean(c2) if c2 else m2\n",
        "\n",
        "        if new_m1 == m1 and new_m2 == m2:\n",
        "            break\n",
        "\n",
        "        m1 = new_m1\n",
        "        m2 = new_m2\n",
        "\n",
        "    return c1, c2, m1, m2\n",
        "\n",
        "\n",
        "n = int(input(\"Enter the number of data points: \"))\n",
        "data = []\n",
        "print(\"Enter the data points:\")\n",
        "for _ in range(n):\n",
        "    data.append(int(input()))\n",
        "\n",
        "c1, c2, m1, m2 = kmean(data)\n",
        "\n",
        "print(\"Cluster 1:\", c1)\n",
        "print(\"Mean of Cluster 1:\", m1)\n",
        "print(\"Cluster 2:\", c2)\n",
        "print(\"Mean of Cluster 2:\", m2)"
      ],
      "metadata": {
        "colab": {
          "base_uri": "https://localhost:8080/"
        },
        "id": "KM0eyRKuDwbk",
        "outputId": "e77dbbcd-72cb-477e-d681-e7d3f9b235d7"
      },
      "execution_count": null,
      "outputs": [
        {
          "output_type": "stream",
          "name": "stdout",
          "text": [
            "Enter the number of data points: 5\n",
            "Enter the data points:\n",
            "2\n",
            "4\n",
            "9\n",
            "1\n",
            "5\n",
            "Cluster 1: [2, 1]\n",
            "Mean of Cluster 1: 1.5\n",
            "Cluster 2: [4, 9, 5]\n",
            "Mean of Cluster 2: 6.0\n"
          ]
        }
      ]
    },
    {
      "cell_type": "markdown",
      "source": [
        "**CONCLUSION** :\n",
        "\n",
        "K-means is efficient for large datasets but requires predefining K clusters.\n",
        "Agglomerative Clustering provides a hierarchical structure but is computationally expensive for large datasets.\n",
        "The choice of clustering technique depends on dataset size, shape, and required interpretability."
      ],
      "metadata": {
        "id": "tIjjFp7xs7KD"
      }
    },
    {
      "cell_type": "markdown",
      "source": [
        "**REVIEW QUESTIONS**\n",
        "\n",
        "---\n",
        "\n",
        "\n",
        "\n",
        "1. What is the K-means clustering algorithm, and how does it work?\n",
        "\n",
        "  Ans: K-Means is an unsupervised clustering algorithm that partitions data into K clusters. It initializes K centroids, assigns each point to the nearest centroid, recalculates centroids as the mean of assigned points, and repeats until convergence. It minimizes intra-cluster variance for better segmentation..\n",
        "\n",
        "---\n",
        "\n",
        "\n",
        "\n",
        "2. How do you determine the optimal number of clusters in K-means\n",
        "\n",
        "  Ans: The optimal number of clusters (K) is found using:\n",
        "\n",
        "  Elbow Method: Plot inertia vs. K; the “elbow point” is optimal.\n",
        "\n",
        "  Silhouette Score: Measures cluster separation. Higher values indicate better clustering.\n",
        "\n",
        "  Gap Statistic: Compares clustering performance to random uniform distributions.\n",
        "\n",
        "\n",
        "---\n",
        "3. What are the common distance metrics used in Agglomerative Clustering?\n",
        "\n",
        "  Ans:\n",
        "  Euclidean Distance (most common)\n",
        "\n",
        "  Manhattan Distance (L1 norm)\n",
        "\n",
        "  Cosine Similarity (for high-dimensional data)\n",
        "\n",
        "  Mahalanobis Distance (accounts for correlations)\n",
        "\n",
        "  Hamming Distance (for categorical data)\n",
        "\n",
        "---\n",
        "\n"
      ],
      "metadata": {
        "id": "8ZQUl6BGtNpS"
      }
    },
    {
      "cell_type": "markdown",
      "source": [
        "GITHUB LINK :https://github.com/asmi-04/DWM-ASMI-25.git"
      ],
      "metadata": {
        "id": "fCnIj5I81ox2"
      }
    }
  ]
}